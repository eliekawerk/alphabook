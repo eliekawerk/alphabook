{
 "cells": [
  {
   "cell_type": "markdown",
   "metadata": {},
   "source": [
    "# RP3 Strategy\n",
    "Classic volatility targetted risk premia strategy using 3 instruments"
   ]
  },
  {
   "cell_type": "markdown",
   "metadata": {},
   "source": [
    "Define imports and strategy parameters"
   ]
  },
  {
   "cell_type": "code",
   "execution_count": 118,
   "metadata": {},
   "outputs": [],
   "source": [
    "import datetime\n",
    "import math\n",
    "import numpy as np\n",
    "import pandas as pd\n",
    "import pandas_datareader as pdr\n",
    "import matplotlib.pyplot as plt\n",
    "\n",
    "# Map asset class to instrument\n",
    "equity_ticker = 'VNRT.L'\n",
    "bond_ticker = 'IBTL.L'\n",
    "gold_ticker = 'SGLN.L'\n",
    "universe_tickers = [equity_ticker, bond_ticker, gold_ticker]\n",
    "\n",
    "# Volatility targets for each asset class\n",
    "equity_vol_target = 0.3\n",
    "bond_vol_target = 0.3\n",
    "gold_vol_target = 0.3\n",
    "\n",
    "# Calendar days to load data for each asset class\n",
    "hist_price_period_days = 365\n",
    "\n",
    "# Day periods to use for volatility estimation\n",
    "vol_forecast_period_days = 60\n",
    "\n",
    "portfolio_value = 1000"
   ]
  },
  {
   "cell_type": "markdown",
   "metadata": {},
   "source": [
    "Load historic adjusted close prices for our universe for last x days covering the volatility forecast period"
   ]
  },
  {
   "cell_type": "code",
   "execution_count": 119,
   "metadata": {},
   "outputs": [
    {
     "name": "stdout",
     "output_type": "stream",
     "text": [
      "['date']\n",
      "MultiIndex([( 'price', 'VNRT.L'),\n",
      "            ( 'price', 'IBTL.L'),\n",
      "            ( 'price', 'SGLN.L'),\n",
      "            ('return', 'VNRT.L')],\n",
      "           names=['attribute', 'ticker'])\n"
     ]
    },
    {
     "data": {
      "text/html": [
       "<div>\n",
       "<style scoped>\n",
       "    .dataframe tbody tr th:only-of-type {\n",
       "        vertical-align: middle;\n",
       "    }\n",
       "\n",
       "    .dataframe tbody tr th {\n",
       "        vertical-align: top;\n",
       "    }\n",
       "\n",
       "    .dataframe thead tr th {\n",
       "        text-align: left;\n",
       "    }\n",
       "\n",
       "    .dataframe thead tr:last-of-type th {\n",
       "        text-align: right;\n",
       "    }\n",
       "</style>\n",
       "<table border=\"1\" class=\"dataframe\">\n",
       "  <thead>\n",
       "    <tr>\n",
       "      <th>attribute</th>\n",
       "      <th colspan=\"3\" halign=\"left\">price</th>\n",
       "      <th>return</th>\n",
       "    </tr>\n",
       "    <tr>\n",
       "      <th>ticker</th>\n",
       "      <th>VNRT.L</th>\n",
       "      <th>IBTL.L</th>\n",
       "      <th>SGLN.L</th>\n",
       "      <th>VNRT.L</th>\n",
       "    </tr>\n",
       "    <tr>\n",
       "      <th>date</th>\n",
       "      <th></th>\n",
       "      <th></th>\n",
       "      <th></th>\n",
       "      <th></th>\n",
       "    </tr>\n",
       "  </thead>\n",
       "  <tbody>\n",
       "    <tr>\n",
       "      <th>2021-08-23</th>\n",
       "      <td>81.177498</td>\n",
       "      <td>407.950012</td>\n",
       "      <td>2567.0</td>\n",
       "      <td>NaN</td>\n",
       "    </tr>\n",
       "    <tr>\n",
       "      <th>2021-08-24</th>\n",
       "      <td>81.332497</td>\n",
       "      <td>406.424988</td>\n",
       "      <td>2569.0</td>\n",
       "      <td>0.001909</td>\n",
       "    </tr>\n",
       "    <tr>\n",
       "      <th>2021-08-25</th>\n",
       "      <td>81.504997</td>\n",
       "      <td>402.325012</td>\n",
       "      <td>2542.0</td>\n",
       "      <td>0.002121</td>\n",
       "    </tr>\n",
       "    <tr>\n",
       "      <th>2021-08-26</th>\n",
       "      <td>81.254997</td>\n",
       "      <td>402.100006</td>\n",
       "      <td>2552.5</td>\n",
       "      <td>-0.003067</td>\n",
       "    </tr>\n",
       "    <tr>\n",
       "      <th>2021-08-27</th>\n",
       "      <td>81.422501</td>\n",
       "      <td>403.225006</td>\n",
       "      <td>2564.0</td>\n",
       "      <td>0.002061</td>\n",
       "    </tr>\n",
       "    <tr>\n",
       "      <th>...</th>\n",
       "      <td>...</td>\n",
       "      <td>...</td>\n",
       "      <td>...</td>\n",
       "      <td>...</td>\n",
       "    </tr>\n",
       "    <tr>\n",
       "      <th>2022-08-15</th>\n",
       "      <td>86.407501</td>\n",
       "      <td>357.500000</td>\n",
       "      <td>2872.5</td>\n",
       "      <td>0.008962</td>\n",
       "    </tr>\n",
       "    <tr>\n",
       "      <th>2022-08-16</th>\n",
       "      <td>86.877502</td>\n",
       "      <td>353.450012</td>\n",
       "      <td>2859.0</td>\n",
       "      <td>0.005439</td>\n",
       "    </tr>\n",
       "    <tr>\n",
       "      <th>2022-08-17</th>\n",
       "      <td>86.489998</td>\n",
       "      <td>353.149994</td>\n",
       "      <td>2853.0</td>\n",
       "      <td>-0.004460</td>\n",
       "    </tr>\n",
       "    <tr>\n",
       "      <th>2022-08-18</th>\n",
       "      <td>87.097504</td>\n",
       "      <td>356.899994</td>\n",
       "      <td>2860.0</td>\n",
       "      <td>0.007024</td>\n",
       "    </tr>\n",
       "    <tr>\n",
       "      <th>2022-08-19</th>\n",
       "      <td>87.324997</td>\n",
       "      <td>354.649994</td>\n",
       "      <td>2885.0</td>\n",
       "      <td>0.002612</td>\n",
       "    </tr>\n",
       "  </tbody>\n",
       "</table>\n",
       "<p>251 rows × 4 columns</p>\n",
       "</div>"
      ],
      "text/plain": [
       "attribute       price                        return\n",
       "ticker         VNRT.L      IBTL.L  SGLN.L    VNRT.L\n",
       "date                                               \n",
       "2021-08-23  81.177498  407.950012  2567.0       NaN\n",
       "2021-08-24  81.332497  406.424988  2569.0  0.001909\n",
       "2021-08-25  81.504997  402.325012  2542.0  0.002121\n",
       "2021-08-26  81.254997  402.100006  2552.5 -0.003067\n",
       "2021-08-27  81.422501  403.225006  2564.0  0.002061\n",
       "...               ...         ...     ...       ...\n",
       "2022-08-15  86.407501  357.500000  2872.5  0.008962\n",
       "2022-08-16  86.877502  353.450012  2859.0  0.005439\n",
       "2022-08-17  86.489998  353.149994  2853.0 -0.004460\n",
       "2022-08-18  87.097504  356.899994  2860.0  0.007024\n",
       "2022-08-19  87.324997  354.649994  2885.0  0.002612\n",
       "\n",
       "[251 rows x 4 columns]"
      ]
     },
     "execution_count": 119,
     "metadata": {},
     "output_type": "execute_result"
    }
   ],
   "source": [
    "# Set period to load data, noting these are calendar days not trading days\n",
    "period = datetime.date.today()\n",
    "period_start = period - datetime.timedelta(days=hist_price_period_days)\n",
    "\n",
    "# Get daily adjusted close data from Yahoo Finance for our universe\n",
    "prices_df = pdr.get_data_yahoo(universe_tickers, start=period_start, end=period)[['Adj Close']]\n",
    "#for ticker in universe_tickers:\n",
    " #   tmp_df = pdr.get_data_yahoo(ticker, start=period_start, end=period)[['Adj Close']]\n",
    "  #  tmp_df['Ticker'] = ticker\n",
    "   # prices_df = pd.concat([prices_df, tmp_df])\n",
    "\n",
    "# Validate data\n",
    "#print(prices_df.tail(5))\n",
    "#print(prices_df.isnull().sum())\n",
    "#print(prices_df.groupby('ticker')['adj_close'].agg(['count']))\n",
    "\n",
    "# Standardize col names\n",
    "#prices_df.index = prices_df.index.rename('date')\n",
    "#prices_df.columns = ['price', 'ticker']\n",
    "\n",
    "# Flatten the columns multi-index\n",
    "#prices_df = prices_df.pivot_table(index='date', columns='ticker', values=['price'])\n",
    "#prices_df.columns = [col[1] for col in prices_df.columns.values]\n",
    "\n",
    "prices_df = prices_df.rename_axis(columns={'Attributes': 'attribute', 'Symbols': 'ticker'})\n",
    "prices_df = prices_df.rename_axis(index={'Date': 'date'})\n",
    "prices_df = prices_df.rename(columns={'Adj Close': 'price'})\n",
    "\n",
    "#prices_df = prices_df.rename(str.lower, axis='columns')\n",
    "\n",
    "\n",
    "prices_df['return', 'VNRT.L'] = prices_df['price', 'VNRT.L'].pct_change()\n",
    "\n",
    "print(prices_df.index.names)\n",
    "\n",
    "print(prices_df.columns)\n",
    "\n",
    "prices_df\n"
   ]
  },
  {
   "cell_type": "markdown",
   "metadata": {},
   "source": [
    "Enrich our dataframe of historic prices with further metrics required by the strategy"
   ]
  },
  {
   "cell_type": "code",
   "execution_count": 120,
   "metadata": {},
   "outputs": [
    {
     "ename": "KeyError",
     "evalue": "'adj_close'",
     "output_type": "error",
     "traceback": [
      "\u001b[0;31m---------------------------------------------------------------------------\u001b[0m",
      "\u001b[0;31mKeyError\u001b[0m                                  Traceback (most recent call last)",
      "File \u001b[0;32m~/repos/github.com/richklee/alphabook/rp3/lib/python3.9/site-packages/pandas/core/indexes/base.py:3621\u001b[0m, in \u001b[0;36mIndex.get_loc\u001b[0;34m(self, key, method, tolerance)\u001b[0m\n\u001b[1;32m   3620\u001b[0m \u001b[39mtry\u001b[39;00m:\n\u001b[0;32m-> 3621\u001b[0m     \u001b[39mreturn\u001b[39;00m \u001b[39mself\u001b[39;49m\u001b[39m.\u001b[39;49m_engine\u001b[39m.\u001b[39;49mget_loc(casted_key)\n\u001b[1;32m   3622\u001b[0m \u001b[39mexcept\u001b[39;00m \u001b[39mKeyError\u001b[39;00m \u001b[39mas\u001b[39;00m err:\n",
      "File \u001b[0;32m~/repos/github.com/richklee/alphabook/rp3/lib/python3.9/site-packages/pandas/_libs/index.pyx:136\u001b[0m, in \u001b[0;36mpandas._libs.index.IndexEngine.get_loc\u001b[0;34m()\u001b[0m\n",
      "File \u001b[0;32m~/repos/github.com/richklee/alphabook/rp3/lib/python3.9/site-packages/pandas/_libs/index.pyx:163\u001b[0m, in \u001b[0;36mpandas._libs.index.IndexEngine.get_loc\u001b[0;34m()\u001b[0m\n",
      "File \u001b[0;32mpandas/_libs/hashtable_class_helper.pxi:5198\u001b[0m, in \u001b[0;36mpandas._libs.hashtable.PyObjectHashTable.get_item\u001b[0;34m()\u001b[0m\n",
      "File \u001b[0;32mpandas/_libs/hashtable_class_helper.pxi:5206\u001b[0m, in \u001b[0;36mpandas._libs.hashtable.PyObjectHashTable.get_item\u001b[0;34m()\u001b[0m\n",
      "\u001b[0;31mKeyError\u001b[0m: 'adj_close'",
      "\nThe above exception was the direct cause of the following exception:\n",
      "\u001b[0;31mKeyError\u001b[0m                                  Traceback (most recent call last)",
      "\u001b[1;32m/Users/richklee/repos/github.com/richklee/alphabook/rp3/main.ipynb Cell 7\u001b[0m in \u001b[0;36m<cell line: 1>\u001b[0;34m()\u001b[0m\n\u001b[0;32m----> <a href='vscode-notebook-cell:/Users/richklee/repos/github.com/richklee/alphabook/rp3/main.ipynb#W6sZmlsZQ%3D%3D?line=0'>1</a>\u001b[0m prices_df[\u001b[39m'\u001b[39m\u001b[39mreturn\u001b[39m\u001b[39m'\u001b[39m] \u001b[39m=\u001b[39m prices_df[\u001b[39m'\u001b[39;49m\u001b[39madj_close\u001b[39;49m\u001b[39m'\u001b[39;49m]\u001b[39m.\u001b[39mpct_change()\n\u001b[1;32m      <a href='vscode-notebook-cell:/Users/richklee/repos/github.com/richklee/alphabook/rp3/main.ipynb#W6sZmlsZQ%3D%3D?line=1'>2</a>\u001b[0m prices_df[\u001b[39m'\u001b[39m\u001b[39mlog_return\u001b[39m\u001b[39m'\u001b[39m] \u001b[39m=\u001b[39m np\u001b[39m.\u001b[39mlog(prices_df[\u001b[39m'\u001b[39m\u001b[39madj_close\u001b[39m\u001b[39m'\u001b[39m]\u001b[39m/\u001b[39mprices_df[\u001b[39m'\u001b[39m\u001b[39madj_close\u001b[39m\u001b[39m'\u001b[39m]\u001b[39m.\u001b[39mshift(\u001b[39m1\u001b[39m))\n\u001b[1;32m      <a href='vscode-notebook-cell:/Users/richklee/repos/github.com/richklee/alphabook/rp3/main.ipynb#W6sZmlsZQ%3D%3D?line=2'>3</a>\u001b[0m prices_df[\u001b[39m'\u001b[39m\u001b[39mcum_return\u001b[39m\u001b[39m'\u001b[39m] \u001b[39m=\u001b[39m (\u001b[39m1\u001b[39m \u001b[39m+\u001b[39m prices_df[\u001b[39m'\u001b[39m\u001b[39mreturn\u001b[39m\u001b[39m'\u001b[39m])\u001b[39m.\u001b[39mcumprod() \u001b[39m-\u001b[39m \u001b[39m1\u001b[39m\n",
      "File \u001b[0;32m~/repos/github.com/richklee/alphabook/rp3/lib/python3.9/site-packages/pandas/core/frame.py:3504\u001b[0m, in \u001b[0;36mDataFrame.__getitem__\u001b[0;34m(self, key)\u001b[0m\n\u001b[1;32m   3502\u001b[0m \u001b[39mif\u001b[39;00m is_single_key:\n\u001b[1;32m   3503\u001b[0m     \u001b[39mif\u001b[39;00m \u001b[39mself\u001b[39m\u001b[39m.\u001b[39mcolumns\u001b[39m.\u001b[39mnlevels \u001b[39m>\u001b[39m \u001b[39m1\u001b[39m:\n\u001b[0;32m-> 3504\u001b[0m         \u001b[39mreturn\u001b[39;00m \u001b[39mself\u001b[39;49m\u001b[39m.\u001b[39;49m_getitem_multilevel(key)\n\u001b[1;32m   3505\u001b[0m     indexer \u001b[39m=\u001b[39m \u001b[39mself\u001b[39m\u001b[39m.\u001b[39mcolumns\u001b[39m.\u001b[39mget_loc(key)\n\u001b[1;32m   3506\u001b[0m     \u001b[39mif\u001b[39;00m is_integer(indexer):\n",
      "File \u001b[0;32m~/repos/github.com/richklee/alphabook/rp3/lib/python3.9/site-packages/pandas/core/frame.py:3555\u001b[0m, in \u001b[0;36mDataFrame._getitem_multilevel\u001b[0;34m(self, key)\u001b[0m\n\u001b[1;32m   3553\u001b[0m \u001b[39mdef\u001b[39;00m \u001b[39m_getitem_multilevel\u001b[39m(\u001b[39mself\u001b[39m, key):\n\u001b[1;32m   3554\u001b[0m     \u001b[39m# self.columns is a MultiIndex\u001b[39;00m\n\u001b[0;32m-> 3555\u001b[0m     loc \u001b[39m=\u001b[39m \u001b[39mself\u001b[39;49m\u001b[39m.\u001b[39;49mcolumns\u001b[39m.\u001b[39;49mget_loc(key)\n\u001b[1;32m   3556\u001b[0m     \u001b[39mif\u001b[39;00m \u001b[39misinstance\u001b[39m(loc, (\u001b[39mslice\u001b[39m, np\u001b[39m.\u001b[39mndarray)):\n\u001b[1;32m   3557\u001b[0m         new_columns \u001b[39m=\u001b[39m \u001b[39mself\u001b[39m\u001b[39m.\u001b[39mcolumns[loc]\n",
      "File \u001b[0;32m~/repos/github.com/richklee/alphabook/rp3/lib/python3.9/site-packages/pandas/core/indexes/multi.py:2869\u001b[0m, in \u001b[0;36mMultiIndex.get_loc\u001b[0;34m(self, key, method)\u001b[0m\n\u001b[1;32m   2866\u001b[0m     \u001b[39mreturn\u001b[39;00m mask\n\u001b[1;32m   2868\u001b[0m \u001b[39mif\u001b[39;00m \u001b[39mnot\u001b[39;00m \u001b[39misinstance\u001b[39m(key, \u001b[39mtuple\u001b[39m):\n\u001b[0;32m-> 2869\u001b[0m     loc \u001b[39m=\u001b[39m \u001b[39mself\u001b[39;49m\u001b[39m.\u001b[39;49m_get_level_indexer(key, level\u001b[39m=\u001b[39;49m\u001b[39m0\u001b[39;49m)\n\u001b[1;32m   2870\u001b[0m     \u001b[39mreturn\u001b[39;00m _maybe_to_slice(loc)\n\u001b[1;32m   2872\u001b[0m keylen \u001b[39m=\u001b[39m \u001b[39mlen\u001b[39m(key)\n",
      "File \u001b[0;32m~/repos/github.com/richklee/alphabook/rp3/lib/python3.9/site-packages/pandas/core/indexes/multi.py:3222\u001b[0m, in \u001b[0;36mMultiIndex._get_level_indexer\u001b[0;34m(self, key, level, indexer)\u001b[0m\n\u001b[1;32m   3218\u001b[0m         \u001b[39mreturn\u001b[39;00m \u001b[39mslice\u001b[39m(i, j, step)\n\u001b[1;32m   3220\u001b[0m \u001b[39melse\u001b[39;00m:\n\u001b[0;32m-> 3222\u001b[0m     idx \u001b[39m=\u001b[39m \u001b[39mself\u001b[39;49m\u001b[39m.\u001b[39;49m_get_loc_single_level_index(level_index, key)\n\u001b[1;32m   3224\u001b[0m     \u001b[39mif\u001b[39;00m level \u001b[39m>\u001b[39m \u001b[39m0\u001b[39m \u001b[39mor\u001b[39;00m \u001b[39mself\u001b[39m\u001b[39m.\u001b[39m_lexsort_depth \u001b[39m==\u001b[39m \u001b[39m0\u001b[39m:\n\u001b[1;32m   3225\u001b[0m         \u001b[39m# Desired level is not sorted\u001b[39;00m\n\u001b[1;32m   3226\u001b[0m         \u001b[39mif\u001b[39;00m \u001b[39misinstance\u001b[39m(idx, \u001b[39mslice\u001b[39m):\n\u001b[1;32m   3227\u001b[0m             \u001b[39m# test_get_loc_partial_timestamp_multiindex\u001b[39;00m\n",
      "File \u001b[0;32m~/repos/github.com/richklee/alphabook/rp3/lib/python3.9/site-packages/pandas/core/indexes/multi.py:2802\u001b[0m, in \u001b[0;36mMultiIndex._get_loc_single_level_index\u001b[0;34m(self, level_index, key)\u001b[0m\n\u001b[1;32m   2800\u001b[0m     \u001b[39mreturn\u001b[39;00m \u001b[39m-\u001b[39m\u001b[39m1\u001b[39m\n\u001b[1;32m   2801\u001b[0m \u001b[39melse\u001b[39;00m:\n\u001b[0;32m-> 2802\u001b[0m     \u001b[39mreturn\u001b[39;00m level_index\u001b[39m.\u001b[39;49mget_loc(key)\n",
      "File \u001b[0;32m~/repos/github.com/richklee/alphabook/rp3/lib/python3.9/site-packages/pandas/core/indexes/base.py:3623\u001b[0m, in \u001b[0;36mIndex.get_loc\u001b[0;34m(self, key, method, tolerance)\u001b[0m\n\u001b[1;32m   3621\u001b[0m     \u001b[39mreturn\u001b[39;00m \u001b[39mself\u001b[39m\u001b[39m.\u001b[39m_engine\u001b[39m.\u001b[39mget_loc(casted_key)\n\u001b[1;32m   3622\u001b[0m \u001b[39mexcept\u001b[39;00m \u001b[39mKeyError\u001b[39;00m \u001b[39mas\u001b[39;00m err:\n\u001b[0;32m-> 3623\u001b[0m     \u001b[39mraise\u001b[39;00m \u001b[39mKeyError\u001b[39;00m(key) \u001b[39mfrom\u001b[39;00m \u001b[39merr\u001b[39;00m\n\u001b[1;32m   3624\u001b[0m \u001b[39mexcept\u001b[39;00m \u001b[39mTypeError\u001b[39;00m:\n\u001b[1;32m   3625\u001b[0m     \u001b[39m# If we have a listlike key, _check_indexing_error will raise\u001b[39;00m\n\u001b[1;32m   3626\u001b[0m     \u001b[39m#  InvalidIndexError. Otherwise we fall through and re-raise\u001b[39;00m\n\u001b[1;32m   3627\u001b[0m     \u001b[39m#  the TypeError.\u001b[39;00m\n\u001b[1;32m   3628\u001b[0m     \u001b[39mself\u001b[39m\u001b[39m.\u001b[39m_check_indexing_error(key)\n",
      "\u001b[0;31mKeyError\u001b[0m: 'adj_close'"
     ]
    }
   ],
   "source": [
    "prices_df['return'] = prices_df['adj_close'].pct_change()\n",
    "prices_df['log_return'] = np.log(prices_df['adj_close']/prices_df['adj_close'].shift(1))\n",
    "prices_df['cum_return'] = (1 + prices_df['return']).cumprod() - 1\n",
    "prices_df['cum_log_return'] = prices_df['log_return'].cumsum()\n",
    "prices_df = prices_df.dropna()\n",
    "\n",
    "\n",
    "print(prices_df.head(5))"
   ]
  },
  {
   "cell_type": "markdown",
   "metadata": {},
   "source": [
    "Now compute unconstrained position sizes based on annualized volatility for each instrument"
   ]
  },
  {
   "cell_type": "code",
   "execution_count": null,
   "metadata": {},
   "outputs": [
    {
     "data": {
      "text/plain": [
       "<matplotlib.legend.Legend at 0x1582e1820>"
      ]
     },
     "execution_count": 104,
     "metadata": {},
     "output_type": "execute_result"
    },
    {
     "data": {
      "image/png": "[encoded data removed]",
      "text/plain": [
       "<Figure size 576x432 with 1 Axes>"
      ]
     },
     "metadata": {
      "needs_background": "light"
     },
     "output_type": "display_data"
    }
   ],
   "source": [
    "prices_df['rolling_30d_ann_vol'] = prices_df['log_return'].rolling(30).std() * math.sqrt(252)\n",
    "prices_df['rolling_60d_ann_vol'] = prices_df['log_return'].rolling(60).std() * math.sqrt(252)\n",
    "prices_df['rolling_90d_ann_vol'] = prices_df['log_return'].rolling(90).std() * math.sqrt(252)\n",
    "#prices_last_price = prices_df['Adj Close'].tail(1).values[0]\n",
    "#prices_size = (prices_vol_target / prices_ann_vol) * (portfolio_value / prices_last_price)\n",
    "\n",
    "#print(prices_ann_vol)\n",
    "#print(prices_last_price)\n",
    "#print(prices_size)\n",
    "\n",
    "prices_df['rolling_60d_ann_vol'].plot(figsize=(8,6))\n",
    "plt.legend(loc=2)"
   ]
  }
 ],
 "metadata": {
  "kernelspec": {
   "display_name": "Python 3.8.9 64-bit",
   "language": "python",
   "name": "python3"
  },
  "language_info": {
   "codemirror_mode": {
    "name": "ipython",
    "version": 3
   },
   "file_extension": ".py",
   "mimetype": "text/x-python",
   "name": "python",
   "nbconvert_exporter": "python",
   "pygments_lexer": "ipython3",
   "version": "3.8.9"
  },
  "orig_nbformat": 4,
  "vscode": {
   "interpreter": {
    "hash": "31f2aee4e71d21fbe5cf8b01ff0e069b9275f58929596ceb00d14d90e3e16cd6"
   }
  }
 },
 "nbformat": 4,
 "nbformat_minor": 2
}
